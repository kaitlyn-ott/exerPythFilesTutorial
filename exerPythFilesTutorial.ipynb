{
 "cells": [
  {
   "cell_type": "code",
   "execution_count": 2,
   "metadata": {},
   "outputs": [
    {
     "name": "stdout",
     "output_type": "stream",
     "text": [
      "/Users/Ottj/Desktop\n"
     ]
    }
   ],
   "source": [
    "cd Desktop"
   ]
  },
  {
   "cell_type": "code",
   "execution_count": 7,
   "metadata": {},
   "outputs": [
    {
     "name": "stdout",
     "output_type": "stream",
     "text": [
      "test.txt\n",
      "r\n"
     ]
    }
   ],
   "source": [
    "#open to read and close\n",
    "f = open('test.txt', 'r')\n",
    "print(f.name)\n",
    "print(f.mode)\n",
    "f.close()"
   ]
  },
  {
   "cell_type": "code",
   "execution_count": 4,
   "metadata": {},
   "outputs": [
    {
     "name": "stdout",
     "output_type": "stream",
     "text": [
      "w\n"
     ]
    }
   ],
   "source": [
    "#open to write and close\n",
    "g = open('test.txt', 'w')\n",
    "print(g.mode)\n",
    "g.close()"
   ]
  },
  {
   "cell_type": "code",
   "execution_count": 5,
   "metadata": {},
   "outputs": [
    {
     "name": "stdout",
     "output_type": "stream",
     "text": [
      "a\n"
     ]
    }
   ],
   "source": [
    "#open to append and close\n",
    "h = open('test.txt', 'a')\n",
    "print(h.mode)\n",
    "h.close()"
   ]
  },
  {
   "cell_type": "code",
   "execution_count": 6,
   "metadata": {},
   "outputs": [
    {
     "name": "stdout",
     "output_type": "stream",
     "text": [
      "r+\n"
     ]
    }
   ],
   "source": [
    "#open to read and write and close\n",
    "i = open('test.txt', 'r+')\n",
    "print(i.mode)\n",
    "i.close()"
   ]
  },
  {
   "cell_type": "code",
   "execution_count": 15,
   "metadata": {},
   "outputs": [
    {
     "name": "stdout",
     "output_type": "stream",
     "text": [
      "1) This is a test file!\n",
      "2) With multiple lines of data...\n",
      "3) Third line\n",
      "4) Fourth line\n",
      "5) Fifth line\n",
      "6) Sixth line\n",
      "7) Seventh line\n",
      "8) Eighth line\n",
      "9) Ninth line\n"
     ]
    }
   ],
   "source": [
    "#context manager automatically closes after executing code \n",
    "#.read reads the entire file\n",
    "with open('test.txt', 'r') as j:\n",
    "    j_contents = j.read()\n",
    "    print(j_contents)\n"
   ]
  },
  {
   "cell_type": "code",
   "execution_count": 17,
   "metadata": {},
   "outputs": [
    {
     "name": "stdout",
     "output_type": "stream",
     "text": [
      "['1) This is a test file!\\n', '2) With multiple lines of data...\\n', '3) Third line\\n', '4) Fourth line\\n', '5) Fifth line\\n', '6) Sixth line\\n', '7) Seventh line\\n', '8) Eighth line\\n', '9) Ninth line']\n"
     ]
    }
   ],
   "source": [
    "#read multiple lines\n",
    "with open('test.txt', 'r') as k:\n",
    "    k_contents = k.readlines()\n",
    "    print(k_contents)"
   ]
  },
  {
   "cell_type": "code",
   "execution_count": 18,
   "metadata": {},
   "outputs": [
    {
     "name": "stdout",
     "output_type": "stream",
     "text": [
      "1) This is a test file!\n",
      "2) With multiple lines of data...\n"
     ]
    }
   ],
   "source": [
    "#reads one line at a time\n",
    "with open('test.txt', 'r') as l:\n",
    "    l_contents = l.readline()\n",
    "    print(l_contents, end ='')\n",
    "    l_contents = l.readline()\n",
    "    print(l_contents, end ='')\n",
    "    "
   ]
  },
  {
   "cell_type": "code",
   "execution_count": 20,
   "metadata": {},
   "outputs": [
    {
     "name": "stdout",
     "output_type": "stream",
     "text": [
      "1) This is a test file!\n",
      "2) With multiple lines of data...\n",
      "3) Third line\n",
      "4) Fourth line\n",
      "5) Fifth line\n",
      "6) Sixth line\n",
      "7) Seventh line\n",
      "8) Eighth line\n",
      "9) Ninth line"
     ]
    }
   ],
   "source": [
    "#for loop to read each line\n",
    "with open('test.txt', 'r') as m:\n",
    "    for line in m:\n",
    "        print(line, end ='')"
   ]
  },
  {
   "cell_type": "code",
   "execution_count": 24,
   "metadata": {},
   "outputs": [
    {
     "name": "stdout",
     "output_type": "stream",
     "text": [
      "1) This is* a test fi*le!\n",
      "2) Wit*h multiple* lines of *data...\n",
      "3)* Third lin*e\n",
      "4) Fourt*h line\n",
      "5) *Fifth line*\n",
      "6) Sixth *line\n",
      "7) Se*venth line*\n",
      "8) Eighth* line\n",
      "9) N*inth line*"
     ]
    }
   ],
   "source": [
    "#read a certain number of characters at a time\n",
    "with open('test.txt', 'r') as n:\n",
    "    size_to_read = 10\n",
    "    \n",
    "    n_contents = n.read(size_to_read)\n",
    "    while len(n_contents)>0:\n",
    "        print(n_contents, end ='*')\n",
    "        n_contents = n.read(size_to_read)"
   ]
  },
  {
   "cell_type": "code",
   "execution_count": 25,
   "metadata": {},
   "outputs": [
    {
     "name": "stdout",
     "output_type": "stream",
     "text": [
      "10\n"
     ]
    }
   ],
   "source": [
    "#tell how many characters were read\n",
    "with open('test.txt', 'r') as n:\n",
    "    size_to_read = 10\n",
    "    \n",
    "    n_contents = n.read(size_to_read)\n",
    "    print(n.tell())"
   ]
  },
  {
   "cell_type": "code",
   "execution_count": 30,
   "metadata": {},
   "outputs": [
    {
     "name": "stdout",
     "output_type": "stream",
     "text": [
      "1) This is1) This is"
     ]
    }
   ],
   "source": [
    "#seek a certain point to read\n",
    "with open('test.txt', 'r') as n:\n",
    "    size_to_read = 10\n",
    "    \n",
    "    n_contents = n.read(size_to_read)\n",
    "    print(n_contents, end ='')\n",
    "    \n",
    "    n.seek(0)\n",
    "    \n",
    "    n_contents = n.read(size_to_read)\n",
    "    print(n_contents, end ='')\n",
    "    "
   ]
  },
  {
   "cell_type": "code",
   "execution_count": 31,
   "metadata": {},
   "outputs": [],
   "source": [
    "#create a new file and write in it\n",
    "with open('test2.txt', 'w') as o:\n",
    "    pass"
   ]
  },
  {
   "cell_type": "code",
   "execution_count": 32,
   "metadata": {},
   "outputs": [],
   "source": [
    "#write in the new file\n",
    "with open('test2.txt', 'w') as o:\n",
    "    o.write('Test')"
   ]
  },
  {
   "cell_type": "code",
   "execution_count": 33,
   "metadata": {},
   "outputs": [],
   "source": [
    "#copy one file to another file\n",
    "with open('test.txt', 'r') as rf:\n",
    "    with open('test_copy.txt', 'w') as wf:\n",
    "        for line in rf:\n",
    "            wf.write(line)"
   ]
  },
  {
   "cell_type": "code",
   "execution_count": 34,
   "metadata": {},
   "outputs": [],
   "source": [
    "#open and copy an image file using binary mode\n",
    "with open('Ryker.jpg', 'rb') as rf:\n",
    "    with open('Ryker2.jpg', 'wb') as wf:\n",
    "        for line in rf:\n",
    "            wf.write(line)"
   ]
  },
  {
   "cell_type": "code",
   "execution_count": 35,
   "metadata": {},
   "outputs": [],
   "source": [
    "#copy binary file using chunks\n",
    "with open('Ryker.jpg', 'rb') as rf:\n",
    "    with open('Ryker3.jpg', 'wb') as wf:\n",
    "        chunk_size = 4096\n",
    "        rf_chunk = rf.read(chunk_size)\n",
    "        while len(rf_chunk)>0:\n",
    "            wf.write(rf_chunk)\n",
    "            rf_chunk = rf.read(chunk_size)"
   ]
  },
  {
   "cell_type": "code",
   "execution_count": null,
   "metadata": {},
   "outputs": [],
   "source": []
  }
 ],
 "metadata": {
  "kernelspec": {
   "display_name": "Python 3",
   "language": "python",
   "name": "python3"
  },
  "language_info": {
   "codemirror_mode": {
    "name": "ipython",
    "version": 3
   },
   "file_extension": ".py",
   "mimetype": "text/x-python",
   "name": "python",
   "nbconvert_exporter": "python",
   "pygments_lexer": "ipython3",
   "version": "3.8.5"
  }
 },
 "nbformat": 4,
 "nbformat_minor": 4
}
